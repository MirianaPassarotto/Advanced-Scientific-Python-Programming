{
 "cells": [
  {
   "cell_type": "markdown",
   "metadata": {},
   "source": [
    "# Interactive Python using jupyter notebooks"
   ]
  },
  {
   "cell_type": "markdown",
   "metadata": {},
   "source": [
    "- Notebooks are made of a sequence of cells\n",
    "- Cells can contain different content such as Python code, or Markdown\n",
    "- You can change the cell type in the toolbar\n",
    "- To execute a cell press \"Shift+Return\"\n",
    "- Use the tool bar to add, delete, copy, or insert cells"
   ]
  },
  {
   "cell_type": "markdown",
   "metadata": {},
   "source": [
    "(Note: to learn more about Markdown check [Daring Fireball's website](https://daringfireball.net/projects/markdown/syntax))"
   ]
  },
  {
   "cell_type": "markdown",
   "metadata": {},
   "source": [
    "## Import the Python package for numerical arrays (numpy)"
   ]
  },
  {
   "cell_type": "code",
   "execution_count": 1,
   "metadata": {
    "collapsed": true
   },
   "outputs": [],
   "source": [
    "import numpy as np"
   ]
  },
  {
   "cell_type": "markdown",
   "metadata": {},
   "source": [
    "## Define a function that creates some statistical data"
   ]
  },
  {
   "cell_type": "code",
   "execution_count": 2,
   "metadata": {
    "collapsed": true
   },
   "outputs": [],
   "source": [
    "def load_data():    \n",
    "    # Goalkeeper, defender, midfielder, attacker\n",
    "    possible_positions = ['GK', 'D', 'M', 'A']\n",
    "    N = 100\n",
    "    positions = []\n",
    "    heights = []\n",
    "    for i in range(0,N):\n",
    "        positions.append(possible_positions[np.random.randint(len(possible_positions))])\n",
    "        heights.append(np.random.normal(loc=180.0,scale=5.0))\n",
    "    return positions, heights"
   ]
  },
  {
   "cell_type": "markdown",
   "metadata": {},
   "source": [
    "## Read the data"
   ]
  },
  {
   "cell_type": "code",
   "execution_count": 3,
   "metadata": {
    "collapsed": true
   },
   "outputs": [],
   "source": [
    "positions, heights = load_data()"
   ]
  },
  {
   "cell_type": "markdown",
   "metadata": {},
   "source": [
    "The objects ```positions``` and ```heights``` are lists as we can check using the Python function ```type```:"
   ]
  },
  {
   "cell_type": "code",
   "execution_count": 4,
   "metadata": {
    "collapsed": false
   },
   "outputs": [
    {
     "name": "stdout",
     "output_type": "stream",
     "text": [
      "<class 'list'>\n",
      "<class 'list'>\n"
     ]
    }
   ],
   "source": [
    "print(type(positions))\n",
    "print(type(heights))"
   ]
  },
  {
   "cell_type": "markdown",
   "metadata": {},
   "source": [
    "Question: *How many items are inside the lists ```positions``` and ```heights```?\n",
    "\n",
    "Hint: Use the Python function ```len```. "
   ]
  },
  {
   "cell_type": "code",
   "execution_count": 8,
   "metadata": {
    "collapsed": true
   },
   "outputs": [
    {
     "name": "stdout",
     "output_type": "stream",
     "text": [
      "numebr of item in the position and heights list: 100\n"
     ]
    }
   ],
   "source": [
    "print(f\"numebr of item in the position and heights list: {len(positions)}\")\n"
   ]
  },
  {
   "cell_type": "markdown",
   "metadata": {},
   "source": [
    "## Convert to numpy arrays"
   ]
  },
  {
   "cell_type": "code",
   "execution_count": 10,
   "metadata": {
    "collapsed": true
   },
   "outputs": [],
   "source": [
    "np_positions = np.array(positions)\n",
    "np_heights = np.array(heights)"
   ]
  },
  {
   "cell_type": "markdown",
   "metadata": {},
   "source": [
    "Question: *what is the data type of ```np_positions``` and ```np_heights```*?<br>\n",
    "Question: *what is the shape of ```np_positions``` and ```np_heights```*?\n",
    "\n",
    "\n",
    "Hint: Numpy objects have member functions called ```dtype``` and ```shape```."
   ]
  },
  {
   "cell_type": "code",
   "execution_count": 16,
   "metadata": {
    "collapsed": false
   },
   "outputs": [
    {
     "name": "stdout",
     "output_type": "stream",
     "text": [
      "data type of np_heights is: float64\n",
      "data type of np_positions is: <U2\n",
      "data type of np_positions and np_heights is: (100,)\n"
     ]
    }
   ],
   "source": [
    "print(f\"data type of np_heights is: {np_heights.dtype}\")\n",
    "print(f\"data type of np_positions is: {np_positions.dtype}\")\n",
    "\n",
    "print(f\"data type of np_positions and np_heights is: {np_heights.shape}\")"
   ]
  },
  {
   "cell_type": "markdown",
   "metadata": {},
   "source": [
    "## Extract the heights of the goalkeepers"
   ]
  },
  {
   "cell_type": "code",
   "execution_count": null,
   "metadata": {
    "collapsed": true
   },
   "outputs": [],
   "source": [
    "gk_heights = np_heights[np_positions == 'GK']\n",
    "m_heights = np_heights[np_positions == 'M']\n",
    "a_heights = np_heights[np_positions == 'A']\n",
    "d_heights = np_heights[np_positions == 'D']\n"
   ]
  },
  {
   "cell_type": "markdown",
   "metadata": {},
   "source": [
    "## Print the median of the goalkeepers heights"
   ]
  },
  {
   "cell_type": "code",
   "execution_count": 48,
   "metadata": {
    "collapsed": false
   },
   "outputs": [
    {
     "name": "stdout",
     "output_type": "stream",
     "text": [
      "Median height of goalkeepers: 180.71083012821913\n",
      "Median height of all the field players (i'm not sure wether the goalkeepers are considered field players) is: 181.14141190307845\n",
      "Median height of attackers is: 181.40305000788908\n",
      "Median height of goalkepeers and atatckers is: 181.1135192759272\n"
     ]
    }
   ],
   "source": [
    "print(\"Median height of goalkeepers: \" + str(np.median(gk_heights)))\n",
    "print(\"Median height of all the field players (i'm not sure wether the goalkeepers are considered field players) is: \" \\\n",
    "        + str(np.median (np.concatenate([gk_heights,a_heights,d_heights, m_heights]))))\n",
    "print(\"Median height of attackers is: \" + str(np.median (a_heights)))\n",
    "print(\"Median height of goalkepeers and atatckers is: \" \\\n",
    "        + str(np.median (np.concatenate([gk_heights,a_heights]))))"
   ]
  },
  {
   "cell_type": "markdown",
   "metadata": {},
   "source": [
    "Question: *what is the median height of all the field players*?<br>\n",
    "Question: *what is the median height of all the attackers*?<br>\n",
    "Question: *what is the median height of goalkeepers and the attackers combined?*"
   ]
  },
  {
   "cell_type": "markdown",
   "metadata": {},
   "source": [
    "## More statistical tests"
   ]
  },
  {
   "cell_type": "markdown",
   "metadata": {},
   "source": [
    "Besides the ```median```, numpy als comes with the functions ```mean```, ```std```, ```min``` and ```max``` which are useful for investigating statistical data. "
   ]
  },
  {
   "cell_type": "markdown",
   "metadata": {},
   "source": [
    "Question: *Who is the shortest player (which position)*?<br>\n",
    "Question: *Who is the tallest player (which position)*?"
   ]
  },
  {
   "cell_type": "code",
   "execution_count": null,
   "metadata": {
    "collapsed": true
   },
   "outputs": [
    {
     "name": "stdout",
     "output_type": "stream",
     "text": [
      "shortest player is a/an : D \n",
      " where: \n",
      " D: defender, \n",
      " A: attacker, \n",
      " GK: goalkeeper, \n",
      " M: middlepalyer\n"
     ]
    }
   ],
   "source": [
    "min_height_index=np.argmin(np_heights)\n",
    "print(f\"shortest player is a/an : {np_positions[min_height_index]} \\n where: \\n D: defender, \\n A: attacker, \\n GK: goalkeeper, \\n M: middleplayer\")"
   ]
  },
  {
   "cell_type": "markdown",
   "metadata": {},
   "source": [
    "## Data plotting"
   ]
  },
  {
   "cell_type": "markdown",
   "metadata": {},
   "source": [
    "For plotting, we need the package matplotlib"
   ]
  },
  {
   "cell_type": "code",
   "execution_count": 57,
   "metadata": {
    "collapsed": true
   },
   "outputs": [],
   "source": [
    "import matplotlib.pyplot as plt"
   ]
  },
  {
   "cell_type": "markdown",
   "metadata": {},
   "source": [
    "There are different display modes for matplotlib plots inside a jupyter notebook."
   ]
  },
  {
   "cell_type": "code",
   "execution_count": 68,
   "metadata": {
    "collapsed": true
   },
   "outputs": [],
   "source": [
    "# For inline plots use\n",
    "%matplotlib inline"
   ]
  },
  {
   "cell_type": "code",
   "execution_count": 66,
   "metadata": {
    "collapsed": true
   },
   "outputs": [],
   "source": [
    "# For inline plots with interactive capabilities use\n",
    "%matplotlib notebook"
   ]
  },
  {
   "cell_type": "markdown",
   "metadata": {},
   "source": [
    "Lets visualize the height distribution of the defenders"
   ]
  },
  {
   "cell_type": "code",
   "execution_count": 60,
   "metadata": {
    "collapsed": false
   },
   "outputs": [],
   "source": [
    "d_heights = np_heights[np_positions == 'D']"
   ]
  },
  {
   "cell_type": "code",
   "execution_count": 70,
   "metadata": {
    "collapsed": false
   },
   "outputs": [
    {
     "data": {
      "image/png": "[encoded data removed]",
      "text/plain": [
       "<Figure size 640x480 with 1 Axes>"
      ]
     },
     "metadata": {},
     "output_type": "display_data"
    }
   ],
   "source": [
    "plt.figure()\n",
    "plt.hist(d_heights)\n",
    "plt.title('Defenders')\n",
    "plt.xlabel('Heights')\n",
    "plt.show()"
   ]
  },
  {
   "cell_type": "markdown",
   "metadata": {},
   "source": [
    "To figure out the tallest/shortest player, we can the max/min within each position"
   ]
  },
  {
   "cell_type": "code",
   "execution_count": 71,
   "metadata": {
    "collapsed": true
   },
   "outputs": [],
   "source": [
    "p = ['GK', 'D', 'M', 'A']\n",
    "p_max = [np_heights[np_positions == i].max() for i in p]"
   ]
  },
  {
   "cell_type": "code",
   "execution_count": 72,
   "metadata": {
    "collapsed": false
   },
   "outputs": [
    {
     "data": {
      "image/png": "[encoded data removed]",
      "text/plain": [
       "<Figure size 640x480 with 1 Axes>"
      ]
     },
     "metadata": {},
     "output_type": "display_data"
    }
   ],
   "source": [
    "plt.figure()\n",
    "plt.plot(range(len(p)), p_max)\n",
    "plt.gca().xaxis.set_ticks(range(len(p)))\n",
    "plt.gca().xaxis.set_ticklabels(p)\n",
    "plt.ylabel('Heights')\n",
    "plt.show()"
   ]
  },
  {
   "cell_type": "markdown",
   "metadata": {},
   "source": [
    "For inspiration on data plotting and more examples, check out the matplotlib gallery: [https://matplotlib.org/gallery.html](https://matplotlib.org/gallery.html)"
   ]
  },
  {
   "cell_type": "code",
   "execution_count": null,
   "metadata": {
    "collapsed": true
   },
   "outputs": [],
   "source": []
  }
 ],
 "metadata": {
  "kernelspec": {
   "display_name": "Python 3",
   "language": "python",
   "name": "python3"
  },
  "language_info": {
   "codemirror_mode": {
    "name": "ipython",
    "version": 3
   },
   "file_extension": ".py",
   "mimetype": "text/x-python",
   "name": "python",
   "nbconvert_exporter": "python",
   "pygments_lexer": "ipython3",
   "version": "3.9.6"
  }
 },
 "nbformat": 4,
 "nbformat_minor": 1
}
