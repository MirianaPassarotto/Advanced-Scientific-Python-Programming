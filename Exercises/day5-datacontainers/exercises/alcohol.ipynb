{
 "cells": [
  {
   "cell_type": "markdown",
   "metadata": {},
   "source": [
    "# Ex - GroupBy"
   ]
  },
  {
   "cell_type": "markdown",
   "metadata": {},
   "source": [
    "### Introduction:\n",
    "\n",
    "GroupBy can be summarizes as Split-Apply-Combine.\n",
    "\n",
    "Special thanks to: https://github.com/justmarkham for sharing the dataset and materials.\n",
    "\n",
    "Check out this [Diagram](http://i.imgur.com/yjNkiwL.png)  \n",
    "### Step 1. Import the necessary libraries"
   ]
  },
  {
   "cell_type": "code",
   "execution_count": null,
   "metadata": {
    "collapsed": false
   },
   "outputs": [
    {
     "data": {
      "text/plain": [
       "       country  beer_servings  spirit_servings  wine_servings  total_litres_of_pure_alcohol continent\n",
       "0  Afghanistan              0                0              0                           0.0        AS\n",
       "1      Albania             89              132             54                           4.9        EU\n",
       "2      Algeria             25                0             14                           0.7        AF\n",
       "3      Andorra            245              138            312                          12.4        EU\n",
       "4       Angola            217               57             45                           5.9        AF\n"
      ]
     },
     "metadata": {},
     "output_type": "display_data"
    }
   ],
   "source": [
    "import pandas as pd\n",
    "\n",
    "import pandas as pd\n",
    "\n",
    "\n",
    "url = \"https://raw.githubusercontent.com/justmarkham/DAT8/master/data/drinks.csv\"\n",
    "\n",
    "\n",
    "\n"
   ]
  },
  {
   "cell_type": "markdown",
   "metadata": {},
   "source": [
    "### Step 2. Import the dataset from this [address](https://raw.githubusercontent.com/justmarkham/DAT8/master/data/drinks.csv). "
   ]
  },
  {
   "cell_type": "markdown",
   "metadata": {},
   "source": [
    "### Step 3. Assign it to a variable called drinks."
   ]
  },
  {
   "cell_type": "code",
   "execution_count": null,
   "metadata": {
    "collapsed": false
   },
   "outputs": [
    {
     "data": {
      "text/plain": [
       "       country  beer_servings  spirit_servings  wine_servings  total_litres_of_pure_alcohol continent\n",
       "0  Afghanistan              0                0              0                           0.0        AS\n",
       "1      Albania             89              132             54                           4.9        EU\n",
       "2      Algeria             25                0             14                           0.7        AF\n",
       "3      Andorra            245              138            312                          12.4        EU\n",
       "4       Angola            217               57             45                           5.9        AF\n"
      ]
     },
     "metadata": {},
     "output_type": "display_data"
    }
   ],
   "source": [
    "drinks = pd.read_csv(url)\n",
    "\n",
    "print(drinks.head())"
   ]
  },
  {
   "cell_type": "markdown",
   "metadata": {},
   "source": [
    "### Step 4. Which continent drinks more beer on average?"
   ]
  },
  {
   "cell_type": "code",
   "execution_count": null,
   "metadata": {
    "collapsed": false
   },
   "outputs": [
    {
     "data": {
      "text/plain": [
       "continent\n",
       "AF     61.471698\n",
       "AS     37.045455\n",
       "EU    193.777778\n",
       "OC     89.687500\n",
       "SA    175.083333\n",
       "Name: beer_servings, dtype: float64\n",
       "EU drinks the most beer on average with 193.78 servings.\n"
      ]
     },
     "metadata": {},
     "output_type": "display_data"
    }
   ],
   "source": [
    "\n",
    "beer_avg = drinks.groupby(\"continent\")[\"beer_servings\"].mean()\n",
    "print(beer_avg)\n",
    "\n",
    "\n",
    "max_continent = beer_avg.idxmax()\n",
    "max_avg = beer_avg.max()\n",
    "\n",
    "print(f\"{max_continent} drinks the most beer on average with {max_avg:.2f} servings.\")\n"
   ]
  },
  {
   "cell_type": "markdown",
   "metadata": {},
   "source": [
    "### Step 5. For each continent print the statistics for wine consumption."
   ]
  },
  {
   "cell_type": "code",
   "execution_count": null,
   "metadata": {
    "collapsed": false
   },
   "outputs": [
    {
     "data": {
      "text/plain": [
       "           count        mean        std  min   25%    50%     75%    max\n",
       "continent                                                               \n",
       "AF          53.0   16.264151  38.846419  0.0   1.0    2.0   13.00  233.0\n",
       "AS          44.0    9.068182  21.667034  0.0   0.0    1.0    8.00  123.0\n",
       "EU          45.0  142.222222  97.421738  0.0  59.0  128.0  195.00  370.0\n",
       "OC          16.0   35.625000  64.555790  0.0   1.0    8.5   23.25  212.0\n",
       "SA          12.0   62.416667  88.620189  1.0   3.0   12.0   98.50  221.0\n"
      ]
     },
     "metadata": {},
     "output_type": "display_data"
    }
   ],
   "source": [
    "wine_stats = drinks.groupby(\"continent\")[\"wine_servings\"].describe()\n",
    "\n",
    "print(wine_stats)\n"
   ]
  },
  {
   "cell_type": "markdown",
   "metadata": {},
   "source": [
    "### Step 6. Print the mean alcoohol consumption per continent for every column"
   ]
  },
  {
   "cell_type": "code",
   "execution_count": null,
   "metadata": {
    "collapsed": false
   },
   "outputs": [
    {
     "data": {
      "text/plain": [
       "           beer_servings  spirit_servings  wine_servings  total_litres_of_pure_alcohol\n",
       "continent                                                                             \n",
       "AF             61.471698        16.339623      16.264151                      3.007547\n",
       "AS             37.045455        60.840909       9.068182                      2.170455\n",
       "EU            193.777778       132.555556     142.222222                      8.617778\n",
       "OC             89.687500        58.437500      35.625000                      3.381250\n",
       "SA            175.083333       114.750000      62.416667                      6.308333\n"
      ]
     },
     "metadata": {},
     "output_type": "display_data"
    }
   ],
   "source": [
    "\n",
    "numeric_columns = drinks.select_dtypes(include=['number'])\n",
    "\n",
    "\n",
    "alcohol_mean = numeric_columns.groupby(drinks[\"continent\"]).mean()\n",
    "\n",
    "print(alcohol_mean)\n"
   ]
  },
  {
   "cell_type": "markdown",
   "metadata": {},
   "source": [
    "### Step 7. Print the median alcoohol consumption per continent for every column"
   ]
  },
  {
   "cell_type": "code",
   "execution_count": null,
   "metadata": {
    "collapsed": false
   },
   "outputs": [
    {
     "data": {
      "text/plain": [
       "           beer_servings  spirit_servings  wine_servings  total_litres_of_pure_alcohol\n",
       "continent                                                                             \n",
       "AF                  32.0              3.0            2.0                          2.30\n",
       "AS                  17.5             16.0            1.0                          1.20\n",
       "EU                 219.0            122.0          128.0                         10.00\n",
       "OC                  52.5             37.0            8.5                          1.75\n",
       "SA                 162.5            108.5           12.0                          6.85\n"
      ]
     },
     "metadata": {},
     "output_type": "display_data"
    }
   ],
   "source": [
    "\n",
    "numeric_columns = drinks.select_dtypes(include=['number'])\n",
    "\n",
    "\n",
    "alcohol_median = numeric_columns.groupby(drinks[\"continent\"]).median()\n",
    "\n",
    "\n",
    "print(alcohol_median)"
   ]
  },
  {
   "cell_type": "markdown",
   "metadata": {},
   "source": [
    "### Step 8. Print the mean, min and max values for spirit consumption.\n",
    "#### This time output a DataFrame"
   ]
  },
  {
   "cell_type": "code",
   "execution_count": null,
   "metadata": {
    "collapsed": false
   },
   "outputs": [
    {
     "data": {
      "text/plain": [
       "        Mean  Min  Max\n",
       "0  80.994819    0  438\n"
      ]
     },
     "metadata": {},
     "output_type": "display_data"
    }
   ],
   "source": [
    "spirit_stats = pd.DataFrame({\n",
    "    \"Mean\": [drinks[\"spirit_servings\"].mean()],\n",
    "    \"Min\": [drinks[\"spirit_servings\"].min()],\n",
    "    \"Max\": [drinks[\"spirit_servings\"].max()]\n",
    "})\n",
    "\n",
    "\n",
    "print(spirit_stats)"
   ]
  }
 ],
 "metadata": {
  "kernelspec": {
   "display_name": "Python 2",
   "language": "python",
   "name": "python2"
  },
  "language_info": {
   "codemirror_mode": {
    "name": "ipython",
    "version": 2
   },
   "file_extension": ".py",
   "mimetype": "text/x-python",
   "name": "python",
   "nbconvert_exporter": "python",
   "pygments_lexer": "ipython2",
   "version": "2.7.11"
  }
 },
 "nbformat": 4,
 "nbformat_minor": 0
}
